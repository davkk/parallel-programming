{
 "cells": [
  {
   "cell_type": "code",
   "execution_count": null,
   "id": "24820b02",
   "metadata": {},
   "outputs": [],
   "source": [
    "from google.colab import drive\n",
    "drive.mount(\"/content/drive\", force_remount=True)"
   ]
  },
  {
   "cell_type": "code",
   "execution_count": null,
   "id": "7b6ce8b4",
   "metadata": {},
   "outputs": [],
   "source": [
    "!stat drive/MyDrive/cuda/main.cu\n",
    "!nvcc drive/MyDrive/cuda/main.cu\n",
    "!cat drive/MyDrive/cuda/sizes.txt | xargs -I{} bash -c \"time ./a.out {}\" 2> drive/MyDrive/cuda/output-cuda"
   ]
  }
 ],
 "metadata": {
  "jupytext": {
   "main_language": "python"
  },
  "kernelspec": {
   "display_name": "Python 3",
   "name": "python3"
  }
 },
 "nbformat": 4,
 "nbformat_minor": 5
}
